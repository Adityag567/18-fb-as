{
 "cells": [
  {
   "cell_type": "code",
   "execution_count": null,
   "id": "bf4eb7c1-49e4-4c61-9089-00d2f4cba383",
   "metadata": {},
   "outputs": [],
   "source": [
    "Q1. What is an API? Give an example, where an API is used in real life."
   ]
  },
  {
   "cell_type": "code",
   "execution_count": null,
   "id": "3aa3d595-52c3-4288-92ff-ee2939e177a8",
   "metadata": {},
   "outputs": [],
   "source": [
    "API stands for 'application programming interface, basic terms, API is a software intermediary that allows two different applications to talk to each other.\n",
    "API is set of rules which connect different different system\n",
    "\n",
    "we made up ape by TCP IP ,HTTP \n",
    "example of web API Gmail,gpay etc. web API is category of API "
   ]
  },
  {
   "cell_type": "code",
   "execution_count": null,
   "id": "99f66154-d523-4989-9b8f-ef3fd11f209b",
   "metadata": {},
   "outputs": [],
   "source": [
    "Q2. Give advantages and disadvantages of using API."
   ]
  },
  {
   "cell_type": "code",
   "execution_count": null,
   "id": "6005fc64-78e3-42d4-9803-b5d075eac4fe",
   "metadata": {},
   "outputs": [],
   "source": [
    "here is a lot of conveniences and advantages to APIs,\n",
    "but business leaders should also be aware of the disadvantages. As a \n",
    "single point of entry, an API is a gateway and can become a hacker's primary target. Once the API is compromised, all other applications and systems become vulnerable.\n",
    "\n",
    "\n",
    "\n",
    "Analytics. Google Analytics is a part of the Google Cloud API Platform and offers multiple API options that businesses can use for analytics. The most common APIs used are Core Reporting API and Management API.\n",
    "Project and Team Management. Tools like Jira, Basecamp, and Microsoft Teams provide communication between coworkers and data sharing functionality — and that all happens through API.\n",
    "Online Payment Systems. Where digital money transfers occur, there is an API supporting the process. Many organizations choose to utilize APIs from a firm such as PayPal to provide secure, safe money transfers to their customers."
   ]
  },
  {
   "cell_type": "code",
   "execution_count": null,
   "id": "80d2ec8c-665d-4dc0-b4f0-4e49112d04aa",
   "metadata": {},
   "outputs": [],
   "source": []
  },
  {
   "cell_type": "code",
   "execution_count": null,
   "id": "10266a62-ef50-46c3-8772-c47f6022a38d",
   "metadata": {},
   "outputs": [],
   "source": []
  },
  {
   "cell_type": "code",
   "execution_count": null,
   "id": "a9dd84b3-cb93-4f60-9ac6-81c41d7160e8",
   "metadata": {},
   "outputs": [],
   "source": []
  },
  {
   "cell_type": "code",
   "execution_count": null,
   "id": "4e4be423-20f0-4081-bce3-3f53c065312d",
   "metadata": {},
   "outputs": [],
   "source": []
  },
  {
   "cell_type": "code",
   "execution_count": null,
   "id": "f638bedb-8c1d-4e9b-a648-b18aa289f5dd",
   "metadata": {},
   "outputs": [],
   "source": []
  },
  {
   "cell_type": "code",
   "execution_count": null,
   "id": "c9cbfc52-32a5-43ba-8e69-949ed35ca819",
   "metadata": {},
   "outputs": [],
   "source": []
  },
  {
   "cell_type": "code",
   "execution_count": null,
   "id": "acb8a3d2-8b2e-4980-81e3-783a00e0b761",
   "metadata": {},
   "outputs": [],
   "source": []
  }
 ],
 "metadata": {
  "kernelspec": {
   "display_name": "Python 3 (ipykernel)",
   "language": "python",
   "name": "python3"
  },
  "language_info": {
   "codemirror_mode": {
    "name": "ipython",
    "version": 3
   },
   "file_extension": ".py",
   "mimetype": "text/x-python",
   "name": "python",
   "nbconvert_exporter": "python",
   "pygments_lexer": "ipython3",
   "version": "3.10.6"
  }
 },
 "nbformat": 4,
 "nbformat_minor": 5
}
